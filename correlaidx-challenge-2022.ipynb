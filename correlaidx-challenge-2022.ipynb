{
 "cells": [
  {
   "cell_type": "code",
   "execution_count": null,
   "metadata": {},
   "outputs": [],
   "source": [
    "# packages\n",
    "#pip install neo4j-driver\n",
    "#pip install openpyxl\n",
    "#pip install itertools"
   ]
  },
  {
   "cell_type": "code",
   "execution_count": null,
   "metadata": {},
   "outputs": [],
   "source": [
    "# imports\n",
    "from neo4j import GraphDatabase, basic_auth\n",
    "import pandas as pd\n",
    "from openpyxl import Workbook, load_workbook\n",
    "from itertools import islice"
   ]
  },
  {
   "cell_type": "code",
   "execution_count": null,
   "metadata": {},
   "outputs": [],
   "source": [
    "# set driver connection\n",
    "driver = GraphDatabase.driver(\n",
    "  \"neo4j://54.174.149.140\",\n",
    "  auth=basic_auth(\"neo4j\", \"portions-prop-mosses\"))"
   ]
  },
  {
   "cell_type": "code",
   "execution_count": 26,
   "metadata": {},
   "outputs": [],
   "source": [
    "# define query functions\n",
    "def name_query(name):\n",
    "    cypher_query = f'''\n",
    "    MATCH (b:Officer)\n",
    "    WHERE toLower(b.name) = toLower(\"{name}\") \n",
    "    RETURN *\n",
    "    '''\n",
    "    with driver.session(database=\"neo4j\") as session:\n",
    "        results = session.execute_read(lambda tx: tx.run(cypher_query, name=name).data())\n",
    "        if len(results) > 0:    \n",
    "            print(f'{name}: {len(results)} results')\n",
    "        driver.close()\n",
    "\n",
    "\n",
    "def city_query(city):\n",
    "    cypher_query = f'''\n",
    "    MATCH (b)\n",
    "    WHERE toLower(b.name) CONTAINS toLower(\"{city}\")\n",
    "    RETURN  *\n",
    "    '''\n",
    "    with driver.session(database=\"neo4j\") as session:\n",
    "        results = session.execute_read(lambda tx: tx.run(cypher_query).data())\n",
    "        if len(results) > 0:\n",
    "            print(f'{city}: {len(results)} results')\n",
    "        driver.close()"
   ]
  },
  {
   "attachments": {},
   "cell_type": "markdown",
   "metadata": {},
   "source": [
    "## Niedersachsen"
   ]
  },
  {
   "cell_type": "code",
   "execution_count": 23,
   "metadata": {},
   "outputs": [
    {
     "data": {
      "text/html": [
       "<div>\n",
       "<style scoped>\n",
       "    .dataframe tbody tr th:only-of-type {\n",
       "        vertical-align: middle;\n",
       "    }\n",
       "\n",
       "    .dataframe tbody tr th {\n",
       "        vertical-align: top;\n",
       "    }\n",
       "\n",
       "    .dataframe thead th {\n",
       "        text-align: right;\n",
       "    }\n",
       "</style>\n",
       "<table border=\"1\" class=\"dataframe\">\n",
       "  <thead>\n",
       "    <tr style=\"text-align: right;\">\n",
       "      <th></th>\n",
       "      <th>Geburtsdatum</th>\n",
       "      <th>Wohnort</th>\n",
       "      <th>Firmensitz</th>\n",
       "      <th>NaN</th>\n",
       "      <th>NaN</th>\n",
       "      <th>NaN</th>\n",
       "    </tr>\n",
       "    <tr>\n",
       "      <th>Name</th>\n",
       "      <th></th>\n",
       "      <th></th>\n",
       "      <th></th>\n",
       "      <th></th>\n",
       "      <th></th>\n",
       "      <th></th>\n",
       "    </tr>\n",
       "  </thead>\n",
       "  <tbody>\n",
       "    <tr>\n",
       "      <th>Martin Kind</th>\n",
       "      <td>1944-04-28 00:00:00</td>\n",
       "      <td>Burgwedel</td>\n",
       "      <td>None</td>\n",
       "      <td>None</td>\n",
       "      <td>None</td>\n",
       "      <td>None</td>\n",
       "    </tr>\n",
       "    <tr>\n",
       "      <th>Kind GmbH &amp; Co. KG</th>\n",
       "      <td>None</td>\n",
       "      <td>None</td>\n",
       "      <td>Kokenhorststraße 3-5, 30938 Großburgwedel</td>\n",
       "      <td>None</td>\n",
       "      <td>None</td>\n",
       "      <td>None</td>\n",
       "    </tr>\n",
       "    <tr>\n",
       "      <th>Dirk Roßmann</th>\n",
       "      <td>1976-09-07 00:00:00</td>\n",
       "      <td>Wittenbecksweg 20, 29646 Bispingen</td>\n",
       "      <td>None</td>\n",
       "      <td>None</td>\n",
       "      <td>None</td>\n",
       "      <td>None</td>\n",
       "    </tr>\n",
       "    <tr>\n",
       "      <th>Raoul Roßmann</th>\n",
       "      <td>1986-08-10 00:00:00</td>\n",
       "      <td>Blücherstr. 5, 30175 Hannover</td>\n",
       "      <td>None</td>\n",
       "      <td>None</td>\n",
       "      <td>None</td>\n",
       "      <td>None</td>\n",
       "    </tr>\n",
       "    <tr>\n",
       "      <th>Dirk Daniel Roßmann</th>\n",
       "      <td>1976-07-23 00:00:00</td>\n",
       "      <td>Riethof 6 B, 30916 Isernhagen</td>\n",
       "      <td>None</td>\n",
       "      <td>None</td>\n",
       "      <td>None</td>\n",
       "      <td>None</td>\n",
       "    </tr>\n",
       "  </tbody>\n",
       "</table>\n",
       "</div>"
      ],
      "text/plain": [
       "                            Geburtsdatum                             Wohnort  \\\n",
       "Name                                                                           \n",
       "Martin Kind          1944-04-28 00:00:00                           Burgwedel   \n",
       "Kind GmbH & Co. KG                  None                                None   \n",
       "Dirk Roßmann         1976-09-07 00:00:00  Wittenbecksweg 20, 29646 Bispingen   \n",
       "Raoul Roßmann        1986-08-10 00:00:00       Blücherstr. 5, 30175 Hannover   \n",
       "Dirk Daniel Roßmann  1976-07-23 00:00:00       Riethof 6 B, 30916 Isernhagen   \n",
       "\n",
       "                                                    Firmensitz   NaN   NaN  \\\n",
       "Name                                                                         \n",
       "Martin Kind                                               None  None  None   \n",
       "Kind GmbH & Co. KG   Kokenhorststraße 3-5, 30938 Großburgwedel  None  None   \n",
       "Dirk Roßmann                                              None  None  None   \n",
       "Raoul Roßmann                                             None  None  None   \n",
       "Dirk Daniel Roßmann                                       None  None  None   \n",
       "\n",
       "                      NaN  \n",
       "Name                       \n",
       "Martin Kind          None  \n",
       "Kind GmbH & Co. KG   None  \n",
       "Dirk Roßmann         None  \n",
       "Raoul Roßmann        None  \n",
       "Dirk Daniel Roßmann  None  "
      ]
     },
     "execution_count": 23,
     "metadata": {},
     "output_type": "execute_result"
    }
   ],
   "source": [
    "# import excel file (.xlsx)\n",
    "book = load_workbook(\"Rechercheliste_Niedersachsen.xlsx\")\n",
    "sheet = book.active\n",
    "\n",
    "data = sheet.values\n",
    "cols = next(data)[1:]\n",
    "data = list(data)\n",
    "idx = [r[0] for r in data]\n",
    "data = (islice(r, 1, None) for r in data)\n",
    "\n",
    "# convert worksheet to a Dataframe\n",
    "df = pd.DataFrame(data, index=idx, columns=cols)\n",
    "df.index.names = ['Name']\n",
    "df.head()"
   ]
  },
  {
   "cell_type": "code",
   "execution_count": 24,
   "metadata": {},
   "outputs": [
    {
     "name": "stdout",
     "output_type": "stream",
     "text": [
      "Carsten Maschmeyer: 1 results\n"
     ]
    }
   ],
   "source": [
    "# Personen\n",
    "allPersons = list(df.index)\n",
    "for name in allPersons:\n",
    "    name_query(name)"
   ]
  },
  {
   "cell_type": "code",
   "execution_count": 27,
   "metadata": {},
   "outputs": [
    {
     "name": "stdout",
     "output_type": "stream",
     "text": [
      "Burgwedel: 3 results\n",
      "Hannover: 53 results\n",
      "Leer: 154 results\n",
      "Dissen: 2 results\n",
      "Burgdorf: 4 results\n",
      "Papenburg: 1 results\n",
      "Ludwigsburg: 1 results\n",
      "Braunschweig: 8 results\n",
      "Visbek: 4 results\n",
      "Vaduz: 215 results\n",
      "München: 3 results\n",
      "Duderstadt: 1 results\n"
     ]
    }
   ],
   "source": [
    "# Wohnort\n",
    "wohnort = list(df.Wohnort)\n",
    "cities = []\n",
    "for x in wohnort:\n",
    "    if x is not None and cities.count(x) == 0:\n",
    "        cities.append(x)\n",
    "\n",
    "for city in cities:\n",
    "    city_query(city)"
   ]
  },
  {
   "cell_type": "code",
   "execution_count": 28,
   "metadata": {},
   "outputs": [
    {
     "name": "stdout",
     "output_type": "stream",
     "text": [
      "Langenhagen: 1 results\n",
      "Luxemburg: 16 results\n",
      "Am Weinberg 2, 37115 Duderstadt: 1 results\n"
     ]
    }
   ],
   "source": [
    "# Adresse\n",
    "adresse = list(df.Firmensitz)\n",
    "adress_list = []\n",
    "for x in adresse:\n",
    "    if x is not None and adress_list.count(x) == 0:\n",
    "        adress_list.append(x)\n",
    "\n",
    "for adress in adress_list:\n",
    "    city_query(adress)"
   ]
  },
  {
   "attachments": {},
   "cell_type": "markdown",
   "metadata": {},
   "source": [
    "## Hamburg"
   ]
  },
  {
   "cell_type": "code",
   "execution_count": 29,
   "metadata": {},
   "outputs": [
    {
     "data": {
      "text/html": [
       "<div>\n",
       "<style scoped>\n",
       "    .dataframe tbody tr th:only-of-type {\n",
       "        vertical-align: middle;\n",
       "    }\n",
       "\n",
       "    .dataframe tbody tr th {\n",
       "        vertical-align: top;\n",
       "    }\n",
       "\n",
       "    .dataframe thead th {\n",
       "        text-align: right;\n",
       "    }\n",
       "</style>\n",
       "<table border=\"1\" class=\"dataframe\">\n",
       "  <thead>\n",
       "    <tr style=\"text-align: right;\">\n",
       "      <th></th>\n",
       "      <th>Name</th>\n",
       "      <th>TO DO</th>\n",
       "      <th>DONE</th>\n",
       "    </tr>\n",
       "  </thead>\n",
       "  <tbody>\n",
       "    <tr>\n",
       "      <th>NaN</th>\n",
       "      <td>None</td>\n",
       "      <td>None</td>\n",
       "      <td>None</td>\n",
       "    </tr>\n",
       "    <tr>\n",
       "      <th>NaN</th>\n",
       "      <td>None</td>\n",
       "      <td>None</td>\n",
       "      <td>None</td>\n",
       "    </tr>\n",
       "    <tr>\n",
       "      <th>NaN</th>\n",
       "      <td>None</td>\n",
       "      <td>None</td>\n",
       "      <td>None</td>\n",
       "    </tr>\n",
       "    <tr>\n",
       "      <th>Warburg Bank</th>\n",
       "      <td>Christian Olearius</td>\n",
       "      <td>None</td>\n",
       "      <td>None</td>\n",
       "    </tr>\n",
       "    <tr>\n",
       "      <th>NaN</th>\n",
       "      <td>Max Warburg</td>\n",
       "      <td>None</td>\n",
       "      <td>None</td>\n",
       "    </tr>\n",
       "  </tbody>\n",
       "</table>\n",
       "</div>"
      ],
      "text/plain": [
       "                            Name TO DO  DONE\n",
       "NaN                         None  None  None\n",
       "NaN                         None  None  None\n",
       "NaN                         None  None  None\n",
       "Warburg Bank  Christian Olearius  None  None\n",
       "NaN                  Max Warburg  None  None"
      ]
     },
     "execution_count": 29,
     "metadata": {},
     "output_type": "execute_result"
    }
   ],
   "source": [
    "# import excel file (.xlsx)\n",
    "book = load_workbook(\"Namensliste-Hamburg.xlsx\")\n",
    "sheet = book.active\n",
    "\n",
    "data = sheet.values\n",
    "cols = next(data)[1:]\n",
    "data = list(data)\n",
    "idx = [r[0] for r in data]\n",
    "data = (islice(r, 1, None) for r in data)\n",
    "\n",
    "# convert worksheet to a Dataframe\n",
    "df = pd.DataFrame(data, index=idx, columns=cols)\n",
    "#df.index.names = ['Name']\n",
    "df.head()"
   ]
  },
  {
   "cell_type": "code",
   "execution_count": 30,
   "metadata": {},
   "outputs": [
    {
     "name": "stdout",
     "output_type": "stream",
     "text": [
      "Bertram Rickmers: 1 results\n"
     ]
    }
   ],
   "source": [
    "# Personen/Namen\n",
    "allPersons = list(df.Name)\n",
    "\n",
    "allPersons_list = []\n",
    "for x in allPersons:\n",
    "    if x is not None and allPersons_list.count(x) == 0:\n",
    "        allPersons_list.append(x)\n",
    "\n",
    "for name in allPersons_list:\n",
    "    name_query(name)"
   ]
  },
  {
   "attachments": {},
   "cell_type": "markdown",
   "metadata": {},
   "source": [
    "## Bremerhaven"
   ]
  },
  {
   "cell_type": "code",
   "execution_count": 31,
   "metadata": {},
   "outputs": [
    {
     "data": {
      "text/html": [
       "<div>\n",
       "<style scoped>\n",
       "    .dataframe tbody tr th:only-of-type {\n",
       "        vertical-align: middle;\n",
       "    }\n",
       "\n",
       "    .dataframe tbody tr th {\n",
       "        vertical-align: top;\n",
       "    }\n",
       "\n",
       "    .dataframe thead th {\n",
       "        text-align: right;\n",
       "    }\n",
       "</style>\n",
       "<table border=\"1\" class=\"dataframe\">\n",
       "  <thead>\n",
       "    <tr style=\"text-align: right;\">\n",
       "      <th></th>\n",
       "      <th>Wohnort</th>\n",
       "      <th>Firma</th>\n",
       "      <th>Firmensitz</th>\n",
       "      <th>NaN</th>\n",
       "      <th>NaN</th>\n",
       "      <th>NaN</th>\n",
       "    </tr>\n",
       "    <tr>\n",
       "      <th>Name</th>\n",
       "      <th></th>\n",
       "      <th></th>\n",
       "      <th></th>\n",
       "      <th></th>\n",
       "      <th></th>\n",
       "      <th></th>\n",
       "    </tr>\n",
       "  </thead>\n",
       "  <tbody>\n",
       "    <tr>\n",
       "      <th>Friedrich Dieckell</th>\n",
       "      <td>Bremerhaven</td>\n",
       "      <td>Friedrich Dieckell Verwaltungsgesellschaft mbH</td>\n",
       "      <td>Grashoffstr. 7, D-27570 Bremerhaven</td>\n",
       "      <td>None</td>\n",
       "      <td>None</td>\n",
       "      <td>None</td>\n",
       "    </tr>\n",
       "    <tr>\n",
       "      <th>Dirk Grotheer</th>\n",
       "      <td>Osterholz-Scharmbeck</td>\n",
       "      <td>Dieckell Verwaltungs GmbH</td>\n",
       "      <td>Grashoffstr. 7, 27570 Bremerhaven</td>\n",
       "      <td>None</td>\n",
       "      <td>None</td>\n",
       "      <td>None</td>\n",
       "    </tr>\n",
       "    <tr>\n",
       "      <th>Olga Wichmann</th>\n",
       "      <td>Schiffdorf</td>\n",
       "      <td>None</td>\n",
       "      <td>None</td>\n",
       "      <td>None</td>\n",
       "      <td>None</td>\n",
       "      <td>None</td>\n",
       "    </tr>\n",
       "    <tr>\n",
       "      <th>Tim Oliver Pohlenz</th>\n",
       "      <td>Geestland</td>\n",
       "      <td>None</td>\n",
       "      <td>None</td>\n",
       "      <td>None</td>\n",
       "      <td>None</td>\n",
       "      <td>None</td>\n",
       "    </tr>\n",
       "    <tr>\n",
       "      <th>NaN</th>\n",
       "      <td>None</td>\n",
       "      <td>None</td>\n",
       "      <td>None</td>\n",
       "      <td>None</td>\n",
       "      <td>None</td>\n",
       "      <td>None</td>\n",
       "    </tr>\n",
       "  </tbody>\n",
       "</table>\n",
       "</div>"
      ],
      "text/plain": [
       "                                  Wohnort  \\\n",
       "Name                                        \n",
       "Friedrich Dieckell            Bremerhaven   \n",
       "Dirk Grotheer        Osterholz-Scharmbeck   \n",
       "Olga Wichmann                  Schiffdorf   \n",
       "Tim Oliver Pohlenz              Geestland   \n",
       "NaN                                  None   \n",
       "\n",
       "                                                              Firma  \\\n",
       "Name                                                                  \n",
       "Friedrich Dieckell   Friedrich Dieckell Verwaltungsgesellschaft mbH   \n",
       "Dirk Grotheer                             Dieckell Verwaltungs GmbH   \n",
       "Olga Wichmann                                                  None   \n",
       "Tim Oliver Pohlenz                                             None   \n",
       "NaN                                                            None   \n",
       "\n",
       "                                              Firmensitz   NaN   NaN   NaN  \n",
       "Name                                                                        \n",
       "Friedrich Dieckell   Grashoffstr. 7, D-27570 Bremerhaven  None  None  None  \n",
       "Dirk Grotheer          Grashoffstr. 7, 27570 Bremerhaven  None  None  None  \n",
       "Olga Wichmann                                       None  None  None  None  \n",
       "Tim Oliver Pohlenz                                  None  None  None  None  \n",
       "NaN                                                 None  None  None  None  "
      ]
     },
     "execution_count": 31,
     "metadata": {},
     "output_type": "execute_result"
    }
   ],
   "source": [
    "# import excel file (.xlsx)\n",
    "book = load_workbook(\"Bremerhaven.xlsx\")\n",
    "sheet = book.active\n",
    "\n",
    "data = sheet.values\n",
    "cols = next(data)[1:]\n",
    "data = list(data)\n",
    "idx = [r[0] for r in data]\n",
    "data = (islice(r, 1, None) for r in data)\n",
    "\n",
    "# convert worksheet to a Dataframe\n",
    "df = pd.DataFrame(data, index=idx, columns=cols)\n",
    "df.index.names = ['Name']\n",
    "df.head()"
   ]
  },
  {
   "cell_type": "code",
   "execution_count": 32,
   "metadata": {},
   "outputs": [],
   "source": [
    "# Personen\n",
    "allPersons = list(df.index)\n",
    "\n",
    "allPersons_list = []\n",
    "for x in allPersons:\n",
    "    if x is not None and allPersons_list.count(x) == 0:\n",
    "        allPersons_list.append(x)\n",
    "\n",
    "for name in allPersons_list:\n",
    "    name_query(name)"
   ]
  },
  {
   "cell_type": "code",
   "execution_count": 33,
   "metadata": {},
   "outputs": [
    {
     "name": "stdout",
     "output_type": "stream",
     "text": [
      "Bremerhaven: 4 results\n",
      "Osterholz-Scharmbeck: 1 results\n",
      "Hamburg: 351 results\n",
      "Berlin: 342 results\n",
      "Bad Bederkesa: 1 results\n",
      "Quickborn: 1 results\n",
      "Cuxhaven: 1 results\n",
      "Bremen: 66 results\n",
      "Elmshorn: 2 results\n",
      "Midlum: 1 results\n",
      "Erlangen: 7 results\n"
     ]
    }
   ],
   "source": [
    "# Wohnort\n",
    "wohnort = list(df.Wohnort)\n",
    "cities = []\n",
    "for x in wohnort:\n",
    "    if x is not None and cities.count(x) == 0:\n",
    "        cities.append(x)\n",
    "\n",
    "for city in cities:\n",
    "    city_query(city)"
   ]
  },
  {
   "cell_type": "code",
   "execution_count": 34,
   "metadata": {},
   "outputs": [],
   "source": [
    "# Firma\n",
    "company = list(df.Firma)\n",
    "companies = []\n",
    "for x in company:\n",
    "    if x is not None and companies.count(x) == 0:\n",
    "        companies.append(x)\n",
    "\n",
    "for company in companies:\n",
    "    city_query(company)"
   ]
  },
  {
   "cell_type": "code",
   "execution_count": 35,
   "metadata": {},
   "outputs": [],
   "source": [
    "# Firmensitz\n",
    "company = list(df.Firmensitz)\n",
    "companies = []\n",
    "for x in company:\n",
    "    if x is not None and companies.count(x) == 0:\n",
    "        companies.append(x)\n",
    "\n",
    "for company in companies:\n",
    "    city_query(company)"
   ]
  }
 ],
 "metadata": {
  "kernelspec": {
   "display_name": "Python 3 (ipykernel)",
   "language": "python",
   "name": "python3"
  },
  "language_info": {
   "codemirror_mode": {
    "name": "ipython",
    "version": 3
   },
   "file_extension": ".py",
   "mimetype": "text/x-python",
   "name": "python",
   "nbconvert_exporter": "python",
   "pygments_lexer": "ipython3",
   "version": "3.7.2"
  },
  "vscode": {
   "interpreter": {
    "hash": "111b0bcbabe72d89cd2c4e0a08eedf6160317baa37d354778b72c206d7bb4999"
   }
  }
 },
 "nbformat": 4,
 "nbformat_minor": 4
}
