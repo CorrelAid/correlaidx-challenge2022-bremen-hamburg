{
 "cells": [
  {
   "cell_type": "code",
   "execution_count": null,
   "metadata": {},
   "outputs": [],
   "source": [
    "# packages\n",
    "#pip install neo4j-driver\n",
    "#pip install openpyxl\n",
    "#pip install itertools"
   ]
  },
  {
   "cell_type": "code",
   "execution_count": 15,
   "metadata": {},
   "outputs": [],
   "source": [
    "# imports\n",
    "from neo4j import GraphDatabase, basic_auth\n",
    "import pandas as pd\n",
    "from openpyxl import Workbook, load_workbook\n",
    "from itertools import islice"
   ]
  },
  {
   "cell_type": "code",
   "execution_count": 2,
   "metadata": {},
   "outputs": [],
   "source": [
    "# set driver connection\n",
    "driver = GraphDatabase.driver(\n",
    "  \"neo4j://107.20.12.116\",\n",
    "  auth=basic_auth(\"neo4j\", \"bond-scream-transistors\"))"
   ]
  },
  {
   "cell_type": "code",
   "execution_count": 3,
   "metadata": {},
   "outputs": [],
   "source": [
    "# define query functions\n",
    "def name_query(name):\n",
    "    cypher_query = '''\n",
    "    MATCH (a:Officer {name:$name})-[r:officer_of|intermediary_of|registered_address*..10]-(b)\n",
    "    RETURN b.name as name, b.node_id as node_id LIMIT 20\n",
    "    '''\n",
    "    with driver.session(database=\"neo4j\") as session:\n",
    "        results = session.execute_read(lambda tx: tx.run(cypher_query, name=name).data())\n",
    "        print(f'{name}: {len(results)} results')\n",
    "        driver.close()\n",
    "\n",
    "\n",
    "def city_query(city):\n",
    "    cypher_query = f'''\n",
    "    MATCH (b)\n",
    "    WHERE toLower(b.name) CONTAINS toLower(\" {city} \")\n",
    "    RETURN  *\n",
    "    '''\n",
    "    with driver.session(database=\"neo4j\") as session:\n",
    "        results = session.execute_read(lambda tx: tx.run(cypher_query).data())\n",
    "        print(f'{city}: {len(results)} results')\n",
    "        driver.close()"
   ]
  },
  {
   "cell_type": "code",
   "execution_count": 28,
   "metadata": {},
   "outputs": [
    {
     "data": {
      "text/html": [
       "<div>\n",
       "<style scoped>\n",
       "    .dataframe tbody tr th:only-of-type {\n",
       "        vertical-align: middle;\n",
       "    }\n",
       "\n",
       "    .dataframe tbody tr th {\n",
       "        vertical-align: top;\n",
       "    }\n",
       "\n",
       "    .dataframe thead th {\n",
       "        text-align: right;\n",
       "    }\n",
       "</style>\n",
       "<table border=\"1\" class=\"dataframe\">\n",
       "  <thead>\n",
       "    <tr style=\"text-align: right;\">\n",
       "      <th></th>\n",
       "      <th>Geburtsdatum</th>\n",
       "      <th>Wohnort (vmtl.)</th>\n",
       "      <th>Firmensitz</th>\n",
       "      <th>NaN</th>\n",
       "      <th>NaN</th>\n",
       "      <th>NaN</th>\n",
       "    </tr>\n",
       "  </thead>\n",
       "  <tbody>\n",
       "    <tr>\n",
       "      <th>Martin Kind</th>\n",
       "      <td>1944-04-28 00:00:00</td>\n",
       "      <td>Burgwedel</td>\n",
       "      <td>None</td>\n",
       "      <td>None</td>\n",
       "      <td>None</td>\n",
       "      <td>None</td>\n",
       "    </tr>\n",
       "    <tr>\n",
       "      <th>Kind GmbH &amp; Co. KG</th>\n",
       "      <td>None</td>\n",
       "      <td>None</td>\n",
       "      <td>Kokenhorststraße 3-5, 30938 Großburgwedel</td>\n",
       "      <td>None</td>\n",
       "      <td>None</td>\n",
       "      <td>None</td>\n",
       "    </tr>\n",
       "    <tr>\n",
       "      <th>Dirk Roßmann</th>\n",
       "      <td>1976-09-07 00:00:00</td>\n",
       "      <td>Wittenbecksweg 20, 29646 Bispingen</td>\n",
       "      <td>None</td>\n",
       "      <td>None</td>\n",
       "      <td>None</td>\n",
       "      <td>None</td>\n",
       "    </tr>\n",
       "    <tr>\n",
       "      <th>Raoul Roßmann</th>\n",
       "      <td>1986-08-10 00:00:00</td>\n",
       "      <td>Blücherstr. 5, 30175 Hannover</td>\n",
       "      <td>None</td>\n",
       "      <td>None</td>\n",
       "      <td>None</td>\n",
       "      <td>None</td>\n",
       "    </tr>\n",
       "    <tr>\n",
       "      <th>Dirk Daniel Roßmann</th>\n",
       "      <td>1976-07-23 00:00:00</td>\n",
       "      <td>Riethof 6 B, 30916 Isernhagen</td>\n",
       "      <td>None</td>\n",
       "      <td>None</td>\n",
       "      <td>None</td>\n",
       "      <td>None</td>\n",
       "    </tr>\n",
       "  </tbody>\n",
       "</table>\n",
       "</div>"
      ],
      "text/plain": [
       "                            Geburtsdatum                     Wohnort (vmtl.)  \\\n",
       "Martin Kind          1944-04-28 00:00:00                           Burgwedel   \n",
       "Kind GmbH & Co. KG                  None                                None   \n",
       "Dirk Roßmann         1976-09-07 00:00:00  Wittenbecksweg 20, 29646 Bispingen   \n",
       "Raoul Roßmann        1986-08-10 00:00:00       Blücherstr. 5, 30175 Hannover   \n",
       "Dirk Daniel Roßmann  1976-07-23 00:00:00       Riethof 6 B, 30916 Isernhagen   \n",
       "\n",
       "                                                    Firmensitz   NaN   NaN  \\\n",
       "Martin Kind                                               None  None  None   \n",
       "Kind GmbH & Co. KG   Kokenhorststraße 3-5, 30938 Großburgwedel  None  None   \n",
       "Dirk Roßmann                                              None  None  None   \n",
       "Raoul Roßmann                                             None  None  None   \n",
       "Dirk Daniel Roßmann                                       None  None  None   \n",
       "\n",
       "                      NaN  \n",
       "Martin Kind          None  \n",
       "Kind GmbH & Co. KG   None  \n",
       "Dirk Roßmann         None  \n",
       "Raoul Roßmann        None  \n",
       "Dirk Daniel Roßmann  None  "
      ]
     },
     "execution_count": 28,
     "metadata": {},
     "output_type": "execute_result"
    }
   ],
   "source": [
    "# import excel file (.xlsx)\n",
    "book = load_workbook(\"Rechercheliste_Niedersachsen.xlsx\")\n",
    "sheet = book.active\n",
    "\n",
    "data = sheet.values\n",
    "cols = next(data)[1:]\n",
    "data = list(data)\n",
    "idx = [r[0] for r in data]\n",
    "data = (islice(r, 1, None) for r in data)\n",
    "\n",
    "# convert worksheet to a Dataframe\n",
    "df = pd.DataFrame(data, index=idx, columns=cols)\n",
    "df.head()"
   ]
  },
  {
   "cell_type": "code",
   "execution_count": 5,
   "metadata": {},
   "outputs": [
    {
     "name": "stdout",
     "output_type": "stream",
     "text": [
      "BERLUSCONI: 0 results\n"
     ]
    }
   ],
   "source": [
    "# run query for names\n",
    "query_list_names = [\"BERLUSCONI\"] # list of names\n",
    "for name in query_list_names:\n",
    "    name_query(name)"
   ]
  },
  {
   "cell_type": "code",
   "execution_count": 6,
   "metadata": {},
   "outputs": [
    {
     "name": "stdout",
     "output_type": "stream",
     "text": [
      "Bremen: 31 results\n"
     ]
    }
   ],
   "source": [
    "# run query for cities\n",
    "query_list_cities = [\"Bremen\"] # list of cities\n",
    "for city in query_list_cities:\n",
    "    city_query(city)"
   ]
  }
 ],
 "metadata": {
  "kernelspec": {
   "display_name": "Python 3",
   "language": "python",
   "name": "python3"
  },
  "language_info": {
   "codemirror_mode": {
    "name": "ipython",
    "version": 3
   },
   "file_extension": ".py",
   "mimetype": "text/x-python",
   "name": "python",
   "nbconvert_exporter": "python",
   "pygments_lexer": "ipython3",
   "version": "3.7.2 (tags/v3.7.2:9a3ffc0492, Dec 23 2018, 22:20:52) [MSC v.1916 32 bit (Intel)]"
  },
  "orig_nbformat": 4,
  "vscode": {
   "interpreter": {
    "hash": "111b0bcbabe72d89cd2c4e0a08eedf6160317baa37d354778b72c206d7bb4999"
   }
  }
 },
 "nbformat": 4,
 "nbformat_minor": 2
}
